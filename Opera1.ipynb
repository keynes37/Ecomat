{
 "cells": [
  {
   "cell_type": "code",
   "execution_count": null,
   "metadata": {},
   "outputs": [],
   "source": []
  },
  {
   "cell_type": "markdown",
   "metadata": {},
   "source": [
    "# Manual 01: Introducción a Python\n",
    "## Universidad del Norte\n",
    "### Economía Matemática\n",
    "Esta guía intenta mostrar a los estudiantes de la **Maestría en Economía** los primeros elementos del desarrollo de Python para el análisis matemático\n"
   ]
  },
  {
   "cell_type": "code",
   "execution_count": 24,
   "metadata": {},
   "outputs": [
    {
     "name": "stdout",
     "output_type": "stream",
     "text": [
      "hello Ecomat, que bueno es estar aquí\n"
     ]
    }
   ],
   "source": [
    "print(\"hello Ecomat, que bueno es estar aquí\")"
   ]
  },
  {
   "cell_type": "markdown",
   "metadata": {},
   "source": [
    "A continuación veremos la clasificación o tipos de datos que comunmente utilizamos en un lenguaje de programación como este"
   ]
  },
  {
   "cell_type": "code",
   "execution_count": 1,
   "metadata": {},
   "outputs": [
    {
     "data": {
      "text/plain": [
       "str"
      ]
     },
     "execution_count": 1,
     "metadata": {},
     "output_type": "execute_result"
    }
   ],
   "source": [
    "type(\"Quien quiere ver economía matemática\")"
   ]
  },
  {
   "cell_type": "markdown",
   "metadata": {},
   "source": [
    "Notamos que nos da el indicador de (str), que hace referencia a **string**. Un proceso que nos dice que estamos hablando de caracteres especiales o letras. A continuación vamos a mirar algunos ejemplos adicionales:"
   ]
  },
  {
   "cell_type": "code",
   "execution_count": 2,
   "metadata": {},
   "outputs": [
    {
     "data": {
      "text/plain": [
       "int"
      ]
     },
     "execution_count": 2,
     "metadata": {},
     "output_type": "execute_result"
    }
   ],
   "source": [
    "type(5)"
   ]
  },
  {
   "cell_type": "code",
   "execution_count": 3,
   "metadata": {},
   "outputs": [
    {
     "data": {
      "text/plain": [
       "float"
      ]
     },
     "execution_count": 3,
     "metadata": {},
     "output_type": "execute_result"
    }
   ],
   "source": [
    "type(3.1898)"
   ]
  },
  {
   "cell_type": "code",
   "execution_count": 4,
   "metadata": {},
   "outputs": [
    {
     "data": {
      "text/plain": [
       "tuple"
      ]
     },
     "execution_count": 4,
     "metadata": {},
     "output_type": "execute_result"
    }
   ],
   "source": [
    "type((3,1))"
   ]
  },
  {
   "cell_type": "code",
   "execution_count": 5,
   "metadata": {},
   "outputs": [
    {
     "data": {
      "text/plain": [
       "list"
      ]
     },
     "execution_count": 5,
     "metadata": {},
     "output_type": "execute_result"
    }
   ],
   "source": [
    "type([\"Bollo\", \"Yuca\", \"Butifarra\"])"
   ]
  },
  {
   "cell_type": "code",
   "execution_count": 6,
   "metadata": {},
   "outputs": [
    {
     "data": {
      "text/plain": [
       "bool"
      ]
     },
     "execution_count": 6,
     "metadata": {},
     "output_type": "execute_result"
    }
   ],
   "source": [
    "type(True)"
   ]
  },
  {
   "cell_type": "code",
   "execution_count": 7,
   "metadata": {},
   "outputs": [
    {
     "data": {
      "text/plain": [
       "dict"
      ]
     },
     "execution_count": 7,
     "metadata": {},
     "output_type": "execute_result"
    }
   ],
   "source": [
    "type({\"Color\": \"Verde\", \"Fruta\": \"Manzana\", \"Nombre\": \"Carlos\"})\n"
   ]
  },
  {
   "cell_type": "markdown",
   "metadata": {},
   "source": [
    "### Resumen\n",
    "Los tipos de datos entonces los encuentra aquí:\n",
    "¡Claro! Aquí tienes una tabla en Markdown con algunos de los tipos de datos más comunes en Python:\n",
    "\n",
    "| Tipo de Dato | Descripción                          | Ejemplo                |\n",
    "|--------------|--------------------------------------|------------------------|\n",
    "| `int`        | Números enteros                      | `42`, `-7`, `0`        |\n",
    "| `float`      | Números de punto flotante            | `3.14`, `-2.0`, `0.5`  |\n",
    "| `bool`       | Valores booleanos                    | `True`, `False`        |\n",
    "| `str`        | Cadenas de texto                     | `\"Hola\"`, `\"Python\"`   |\n",
    "| `list`       | Listas (colecciones ordenadas)       | `[1, 2, 3]`, `[\"a\", \"b\"]` |\n",
    "| `tuple`      | Tuplas (colecciones ordenadas e inmutables) | `(1, 2)`, `(\"a\", \"b\")` |\n",
    "| `dict`       | Diccionarios (pares clave-valor)     | `{\"clave\": \"valor\"}`, `{\"a\": 1, \"b\": 2}` |\n",
    "| `set`        | Conjuntos (colecciones desordenadas de elementos únicos) | `{1, 2, 3}`, `{\"a\", \"b\"}` |\n"
   ]
  },
  {
   "cell_type": "markdown",
   "metadata": {},
   "source": [
    "### Ejercicio #1\n",
    "1. Recree una situación utilizando los mismos elementos de tipos y desarrollelos a continuación"
   ]
  },
  {
   "cell_type": "markdown",
   "metadata": {},
   "source": [
    "# Otros elementos"
   ]
  },
  {
   "cell_type": "markdown",
   "metadata": {},
   "source": [
    "Adicionalmente podemos crear listas de objetos para tener un estamento de Macrodato o dato estructurado. Esto es:"
   ]
  },
  {
   "cell_type": "code",
   "execution_count": 8,
   "metadata": {},
   "outputs": [],
   "source": [
    "x = ['Economía Matemática', 9, 4.2, False]"
   ]
  },
  {
   "cell_type": "code",
   "execution_count": 9,
   "metadata": {},
   "outputs": [
    {
     "data": {
      "text/plain": [
       "list"
      ]
     },
     "execution_count": 9,
     "metadata": {},
     "output_type": "execute_result"
    }
   ],
   "source": [
    "type(x)"
   ]
  },
  {
   "cell_type": "code",
   "execution_count": 10,
   "metadata": {},
   "outputs": [],
   "source": [
    "x = [\"Naturales\", \"Sociales\", \"Matemática\"]"
   ]
  },
  {
   "cell_type": "code",
   "execution_count": 11,
   "metadata": {},
   "outputs": [],
   "source": [
    "x.append(\"Educación Física\")"
   ]
  },
  {
   "cell_type": "code",
   "execution_count": 12,
   "metadata": {},
   "outputs": [
    {
     "data": {
      "text/plain": [
       "['Naturales', 'Sociales', 'Matemática', 'Educación Física']"
      ]
     },
     "execution_count": 12,
     "metadata": {},
     "output_type": "execute_result"
    }
   ],
   "source": [
    "x"
   ]
  },
  {
   "cell_type": "markdown",
   "metadata": {},
   "source": [
    "Las listas de elementos pueden ser ordenados de cierta manera. "
   ]
  },
  {
   "cell_type": "code",
   "execution_count": 13,
   "metadata": {},
   "outputs": [
    {
     "data": {
      "text/plain": [
       "['Educación Física', 'Matemática', 'Naturales', 'Sociales']"
      ]
     },
     "execution_count": 13,
     "metadata": {},
     "output_type": "execute_result"
    }
   ],
   "source": [
    "x.sort()\n",
    "x"
   ]
  },
  {
   "cell_type": "code",
   "execution_count": 14,
   "metadata": {},
   "outputs": [
    {
     "data": {
      "text/plain": [
       "['Sociales', 'Naturales', 'Matemática', 'Educación Física']"
      ]
     },
     "execution_count": 14,
     "metadata": {},
     "output_type": "execute_result"
    }
   ],
   "source": [
    "x.sort(reverse=True)\n",
    "x"
   ]
  },
  {
   "cell_type": "markdown",
   "metadata": {},
   "source": [
    "## Operadores Matemáticos\n",
    "Realice las siguientes operaciones en Python:\n",
    "*    2 + 4\n",
    "*    2 x 5\n",
    "*    10 / 2\n",
    "*    10 - 7\n",
    "*    ¿Cuántas veces cabe el 3 en el 10?\n",
    "*    ¿Cuánto sobra después de dividir 10 entre 3?\n"
   ]
  },
  {
   "cell_type": "code",
   "execution_count": 15,
   "metadata": {},
   "outputs": [
    {
     "name": "stdout",
     "output_type": "stream",
     "text": [
      "6\n",
      "10\n",
      "5.0\n",
      "3\n",
      "3.3333333333333335\n"
     ]
    }
   ],
   "source": [
    "resultado_1=2+4\n",
    "print(resultado_1)\n",
    "print(2*5)\n",
    "print(10/2)\n",
    "print(10//3)\n",
    "print(10/3)"
   ]
  },
  {
   "cell_type": "markdown",
   "metadata": {},
   "source": [
    "# Gráficos"
   ]
  },
  {
   "cell_type": "markdown",
   "metadata": {},
   "source": [
    "Existe una gran variedad de Paquetes o grupo de funciones que permiten realizar gráficos en **Python**. Un ejemplo de ello es:"
   ]
  },
  {
   "cell_type": "code",
   "execution_count": 16,
   "metadata": {},
   "outputs": [
    {
     "data": {
      "image/png": "[encoded data removed]",
      "text/plain": [
       "<Figure size 640x480 with 1 Axes>"
      ]
     },
     "metadata": {},
     "output_type": "display_data"
    }
   ],
   "source": [
    "import matplotlib.pyplot as plt\n",
    "\n",
    "# Crear datos\n",
    "x = [1, 3, 4, 7, 8, 9]\n",
    "y = [0, 3, 6, 9, 7, 8]\n",
    "\n",
    "# Graficar\n",
    "plt.plot(x, y, color='blue')\n",
    "plt.xlabel('Eje X')\n",
    "plt.ylabel('Eje Y')\n",
    "plt.title('Gráfico n°1: Simple')\n",
    "plt.show()"
   ]
  },
  {
   "cell_type": "markdown",
   "metadata": {},
   "source": [
    "Un gráfico con mas condiciones:"
   ]
  },
  {
   "cell_type": "code",
   "execution_count": 17,
   "metadata": {},
   "outputs": [
    {
     "data": {
      "image/png": "[encoded data removed]",
      "text/plain": [
       "<Figure size 640x480 with 1 Axes>"
      ]
     },
     "metadata": {},
     "output_type": "display_data"
    }
   ],
   "source": [
    "import scipy.stats as stats\n",
    "import numpy as np\n",
    "import matplotlib.pyplot as plt\n",
    "\n",
    "# Ingredientes\n",
    "x = np.linspace(-4, 4, num=100)\n",
    "# Evaluación de densidad\n",
    "y1 = stats.norm.pdf(x, 0, 1)\n",
    "y2 = stats.norm.pdf(x, 1, 0.5)\n",
    "y3 = stats.norm.pdf(x, 0, 2)\n",
    "\n",
    "# Gráfico:\n",
    "plt.plot(x, y1, linestyle='-', color='black', label='Normal Estandar')\n",
    "plt.plot(x, y2, linestyle='--', color='0.3', label='mu = 1, sigma = 0.5')\n",
    "plt.plot(x, y3, linestyle=':', color='0.6', label='$\\\\mu = 0$, $\\\\sigma = 2$')\n",
    "plt.xlim(-3, 4)\n",
    "plt.title('Densidad de la distribución Normal')\n",
    "plt.ylabel('$\\\\phi(x)$')\n",
    "plt.xlabel('x')\n",
    "plt.legend()\n",
    "plt.show()"
   ]
  },
  {
   "cell_type": "markdown",
   "metadata": {},
   "source": [
    "## Funciones"
   ]
  },
  {
   "cell_type": "markdown",
   "metadata": {},
   "source": [
    "Primero hablemos de la regla de derivadas que tenemos. En Economía es mas útil pensar que existen o hay usos en las médidas de los cambios de una variable sobre otra $\\frac{\\Delta Y}{\\Delta X}$ y esto no es mas que ver la forma o manera que responde $Y$, cuando $X$ cambia."
   ]
  },
  {
   "cell_type": "code",
   "execution_count": 18,
   "metadata": {},
   "outputs": [
    {
     "name": "stdout",
     "output_type": "stream",
     "text": [
      "Requirement already satisfied: sympy in /Library/Frameworks/Python.framework/Versions/3.10/lib/python3.10/site-packages (1.13.3)\n",
      "Requirement already satisfied: mpmath<1.4,>=1.1.0 in /Library/Frameworks/Python.framework/Versions/3.10/lib/python3.10/site-packages (from sympy) (1.3.0)\n",
      "\u001b[33mWARNING: You are using pip version 22.0.4; however, version 25.0.1 is available.\n",
      "You should consider upgrading via the '/usr/local/bin/python3.10 -m pip install --upgrade pip' command.\u001b[0m\u001b[33m\n",
      "\u001b[0mNote: you may need to restart the kernel to use updated packages.\n"
     ]
    }
   ],
   "source": [
    "pip install sympy"
   ]
  },
  {
   "cell_type": "code",
   "execution_count": 19,
   "metadata": {},
   "outputs": [
    {
     "name": "stdout",
     "output_type": "stream",
     "text": [
      "exp(x)*sin(x) + exp(x)*cos(x)\n"
     ]
    }
   ],
   "source": [
    "import sympy as sp\n",
    "\n",
    "# Primer paso va en definir la variable y la función\n",
    "x = sp.symbols('x')\n",
    "funcion = sp.sin(x) * sp.exp(x)\n",
    "\n",
    "# Como se calcula la derivada\n",
    "derivada = sp.diff(funcion, x)\n",
    "print(derivada)"
   ]
  },
  {
   "cell_type": "markdown",
   "metadata": {},
   "source": [
    "Digamos que queremos hallar la derivada de una función: $\\pi_i=1000 \\cdot q - 5q^{2}$"
   ]
  },
  {
   "cell_type": "code",
   "execution_count": 20,
   "metadata": {},
   "outputs": [
    {
     "name": "stdout",
     "output_type": "stream",
     "text": [
      "La derivada de la funcion es 1000 - 10*q\n"
     ]
    }
   ],
   "source": [
    "q = sp.symbols('q')\n",
    "funcion = 1000*q - 5*q**2\n",
    "\n",
    "# Derivamos\n",
    "derivada = sp.diff(funcion, q)\n",
    "print(f\"La derivada de la funcion es {derivada}\")"
   ]
  },
  {
   "cell_type": "code",
   "execution_count": 21,
   "metadata": {},
   "outputs": [
    {
     "data": {
      "text/latex": [
       "$\\displaystyle \\frac{3 q^{2}}{q^{3} + 2}$"
      ],
      "text/plain": [
       "3*q**2/(q**3 + 2)"
      ]
     },
     "execution_count": 21,
     "metadata": {},
     "output_type": "execute_result"
    }
   ],
   "source": [
    "q = sp.symbols('q')\n",
    "\n",
    "# Definir una función h(q)\n",
    "h = sp.ln(q**3 + 2)\n",
    "\n",
    "# Calculamos la derivada de la función h(q) con respecto a q\n",
    "derivada_h = sp.diff(h, q)\n",
    "\n",
    "# Mostrar el resultado\n",
    "derivada_h"
   ]
  },
  {
   "cell_type": "markdown",
   "metadata": {},
   "source": [
    "Halle ahora para las siguientes funcionces la derivada:\n",
    "\n",
    "1. $4q^5-3q^2+q-8$\n",
    "2. $e^{2q}$\n",
    "3. $ln(q)$"
   ]
  },
  {
   "cell_type": "markdown",
   "metadata": {},
   "source": [
    "## Matrices"
   ]
  },
  {
   "cell_type": "markdown",
   "metadata": {},
   "source": [
    "Las matrices son herramientas fundamentales en el campo de las matemáticas y la ingeniería, especialmente en la resolución de problemas de optimización. Una matriz es una estructura bidimensional que organiza datos en filas y columnas, permitiendo realizar operaciones algebraicas de manera eficiente. En problemas de optimización, las matrices se utilizan para representar sistemas de ecuaciones lineales, modelar relaciones entre variables y manejar grandes conjuntos de datos."
   ]
  },
  {
   "cell_type": "markdown",
   "metadata": {},
   "source": [
    "$$M=\\begin{pmatrix}\n",
    "x_{11} & x_{12} & x_{13} \\\\\n",
    "x_{21} & x_{22} & x_{23} \\\\\n",
    "x_{31} & x_{32} & x_{33}\n",
    "\\end{pmatrix}$$"
   ]
  },
  {
   "cell_type": "code",
   "execution_count": 22,
   "metadata": {},
   "outputs": [
    {
     "name": "stdout",
     "output_type": "stream",
     "text": [
      "Ejemplo 1: Suma de matrices 2x2\n",
      "[[ 6  8]\n",
      " [10 12]]\n"
     ]
    }
   ],
   "source": [
    "import numpy as np\n",
    "# Ejemplo 1: Suma de dos matrices 2x2\n",
    "A = np.array([[1, 2], [3, 4]])\n",
    "B = np.array([[5, 6], [7, 8]])\n",
    "C = A + B\n",
    "print(\"Ejemplo 1: Suma de matrices 2x2\")\n",
    "print(C)"
   ]
  },
  {
   "cell_type": "code",
   "execution_count": 23,
   "metadata": {},
   "outputs": [
    {
     "name": "stdout",
     "output_type": "stream",
     "text": [
      "Ejemplo 1: Producto de matrices 2x2\n",
      "[[19 22]\n",
      " [43 50]]\n"
     ]
    }
   ],
   "source": [
    "# Ejemplo 2: Producto de dos matrices 2x2\n",
    "A = np.array([[1, 2], [3, 4]])\n",
    "B = np.array([[5, 6], [7, 8]])\n",
    "C = np.dot(A, B)\n",
    "print(\"Ejemplo 1: Producto de matrices 2x2\")\n",
    "print(C)"
   ]
  }
 ],
 "metadata": {
  "kernelspec": {
   "display_name": "Python 3",
   "language": "python",
   "name": "python3"
  },
  "language_info": {
   "codemirror_mode": {
    "name": "ipython",
    "version": 3
   },
   "file_extension": ".py",
   "mimetype": "text/x-python",
   "name": "python",
   "nbconvert_exporter": "python",
   "pygments_lexer": "ipython3",
   "version": "3.10.5"
  }
 },
 "nbformat": 4,
 "nbformat_minor": 2
}
