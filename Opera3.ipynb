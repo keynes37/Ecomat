{
 "cells": [
  {
   "cell_type": "markdown",
   "metadata": {},
   "source": [
    "# Manual 03: Optimización Max-Min\n",
    "## Universidad del Norte\n",
    "### Economía Matemática\n",
    "Llegó la parte de **optimización** a la clase. Vamos hacer algunos ejercicios a mano primero con las funciones propias y luego si nos vamos a paquetes que permitan obtener resultados mas concretos."
   ]
  },
  {
   "cell_type": "markdown",
   "metadata": {},
   "source": [
    "Empecemos primero con el analisis de la tradicional función de Cobb-Douglas:\n",
    "$$ \\max_{x_1, x_2} \\quad x_1^{\\alpha} x_2^{\\beta} \\quad \\text{s.a.} \\quad p_1 x_1 + p_2 x_2 = m $$"
   ]
  },
  {
   "cell_type": "markdown",
   "metadata": {},
   "source": [
    "En repetidas ocasiones -*sobre todo en Microeconomía*-, se solicitaba mediante el proceso de Lagrange, hallar cada uno de los valores óptimos que máximizaban una función de utilidad y que estaba bajo una restricción especifica.\n",
    "\n",
    "Ademas que despues de aplicar la intercepción de nuestros precios relativos con las Utilidades Marginales se lograba una ecuación que permitía incorporarse en la restricción y con ello encontrar la solución de:"
   ]
  },
  {
   "cell_type": "markdown",
   "metadata": {},
   "source": [
    "$$ x_1^* = \\frac{\\alpha}{\\alpha + \\beta} \\frac{m}{p_1}, \\quad x_2^* = \\frac{\\beta}{\\alpha + \\beta} \\frac{m}{p_2} $$"
   ]
  },
  {
   "cell_type": "markdown",
   "metadata": {},
   "source": [
    "Lo anterior ampliamente conocido como <span class=\"rojo\">Demandas Marshallianas</span>. Ya que estas eran *observables* y dependian directamente del ingreso pero inversamente de los precios de los bienes."
   ]
  },
  {
   "cell_type": "markdown",
   "metadata": {},
   "source": [
    "$$ x_1^* = \\frac{\\alpha m}{p_1}, \\quad x_2^* = \\frac{(1-\\alpha) m}{p_2} $$"
   ]
  },
  {
   "cell_type": "markdown",
   "metadata": {},
   "source": [
    "## Trabajo en python\n",
    "\n",
    "La idea es entonces hacerlo en python. Para ello creemos una función"
   ]
  },
  {
   "cell_type": "code",
   "execution_count": null,
   "metadata": {},
   "outputs": [],
   "source": [
    "def Marshalliana(alpha, m, p1, p2):\n",
    "    x1 = alpha * m / p1\n",
    "    x2 = (1 - alpha) * m / p2\n",
    "    return x1, x2"
   ]
  },
  {
   "cell_type": "markdown",
   "metadata": {},
   "source": [
    "Digamos por un momento que la función tendrá los siguientes valores \n",
    "$$\\alpha = 0.5, \\ m = 200, \\ p_1 = 7, \\ p_2 = 15$$\n",
    "Que es lo mismo que $x_1^* = 0.5 \\times \\frac{200}{7} = 14,28$ y $x_2^* = 0.5 \\times \\frac{200}{15} = 6,6$."
   ]
  },
  {
   "cell_type": "code",
   "execution_count": null,
   "metadata": {},
   "outputs": [],
   "source": [
    "# Parámetros\n",
    "alpha = 0.5\n",
    "m = 200\n",
    "p1 = 7\n",
    "p2 = 15\n",
    "\n",
    "# Haga uso de la funcióm\n",
    "x1, x2 = Marshalliana(alpha, m, p1, p2)\n",
    "\n",
    "# Dandole confort al resultado y redondeando decimales\n",
    "print(f\"Demanda del bien 1: {round(x1, 2)}\")\n",
    "print(f\"Demanda del bien 2: {round(x2, 2)}\")"
   ]
  },
  {
   "cell_type": "markdown",
   "metadata": {},
   "source": [
    "### Estatica comparativa\n",
    "Vamos a realizar un gráfico del bien $x_1$ y luego vamos a mirar que ocurre si aumenta un 15% el nivel de ingreso de la persona"
   ]
  },
  {
   "cell_type": "code",
   "execution_count": null,
   "metadata": {},
   "outputs": [],
   "source": [
    "import numpy as np\n",
    "import matplotlib.pyplot as plt\n",
    "\n",
    "# Vector donde va los precios\n",
    "p1_vals = np.linspace(1, 10, 25)\n",
    "\n",
    "# Se resuelve por cada punto\n",
    "x1_vals, x2_vals = Marshalliana(alpha, m, p1_vals, p2)\n",
    "\n",
    "# Grafica\n",
    "plt.plot(p1_vals, x1_vals)\n",
    "plt.xlabel('Precio del Bien 1')\n",
    "plt.ylabel('Demanda del Bien 1')\n",
    "plt.show()"
   ]
  },
  {
   "cell_type": "markdown",
   "metadata": {},
   "source": [
    "### Pensemos\n",
    "Que ocurre si el presupuesto aumenta en un 15% $I\\rightarrow 15\\%$ entonces es $200 \\cdot (1+0.15)= 230$. Que va ocurrir?."
   ]
  },
  {
   "cell_type": "code",
   "execution_count": null,
   "metadata": {},
   "outputs": [],
   "source": [
    "# Calcular la demanda cuando I = 230\n",
    "x1_vals2, x2_vals2 = Marshalliana(alpha, 230, p1_vals, p2)\n",
    "\n",
    "# Create a new plot with the second curve\n",
    "plt.plot(p1_vals, x1_vals, label='m = 200')\n",
    "plt.plot(p1_vals, x1_vals2, label='m = 230')\n",
    "plt.xlabel('Precio del Bien 1')\n",
    "plt.ylabel('Demanda del Bien 1')\n",
    "plt.legend()\n",
    "plt.show()"
   ]
  },
  {
   "cell_type": "markdown",
   "metadata": {},
   "source": [
    "Note que la función optimiza en varios puntos al cambiar los parámetros. Intente usted cambiar al ingreso a $500 y vea como aumenta aun mas la expresión."
   ]
  },
  {
   "cell_type": "markdown",
   "metadata": {},
   "source": [
    "## Optimización Automática\n",
    "llegó la hora de optimizar con una función del paquete `scipy`. Aunque aparezca `minimize`, debemos setear de tal manera que sea plausible la respuesta de nuestra función objetivo."
   ]
  },
  {
   "cell_type": "code",
   "execution_count": null,
   "metadata": {},
   "outputs": [],
   "source": [
    "import numpy as np\n",
    "from scipy.optimize import minimize\n",
    "\n",
    "# Parameters\n",
    "alpha = 0.5\n",
    "m = 200\n",
    "p1 = 7\n",
    "p2 = 15\n",
    "\n",
    "# Funciones de Utilidad\n",
    "def utilidad(x):\n",
    "    x1, x2 = x\n",
    "    if x1 < 0 or x2 < 0:\n",
    "        return np.inf\n",
    "    else:\n",
    "        return -x1 ** alpha * x2 ** (1 - alpha)\n",
    "\n",
    "# Restricción Presupuesto\n",
    "def presupuesto_c(x):\n",
    "    x1, x2 = x\n",
    "    return m - p1 * x1 - p2 * x2\n",
    "\n",
    "# Consolidando las restricciones\n",
    "constraints = ({\"type\": \"eq\", \"fun\": presupuesto_c})\n",
    "initial_guess = [1, 2] \n",
    "\n",
    "# Aplicando la funciín -f(x) para maximizar\n",
    "resultado = minimize(utilidad, initial_guess, constraints=constraints)\n",
    "x1, x2 = resultado.x\n",
    "\n",
    "# Print the results (round to 2 decimal places)\n",
    "print(f\"Demanda del Bien 1: {round(x1, 2)}\")\n",
    "print(f\"Demanda del Bien 2: {round(x2, 2)}\")"
   ]
  },
  {
   "cell_type": "markdown",
   "metadata": {},
   "source": [
    "### Función CES\n",
    "\n",
    "Digamos que queremos ser mas avanzados y usar dos restricciones y optimizar una función de utilidad tipo CES o (Constant Elasticity Sustitution).\n",
    "\n",
    "$$U(x_1, x_2) = \\left( x_1^\\rho + x_2^\\rho \\right)^{\\frac{1}{\\rho}}$$"
   ]
  },
  {
   "cell_type": "code",
   "execution_count": null,
   "metadata": {},
   "outputs": [],
   "source": [
    "import numpy as np\n",
    "from scipy.optimize import minimize\n",
    "\n",
    "# Parámetros\n",
    "rho = 0.5\n",
    "m = 300\n",
    "p1 = 12\n",
    "p2 = 18\n",
    "\n",
    "# Función de utilidad CES\n",
    "def utilidad(x):\n",
    "    x1, x2 = x\n",
    "    if x1 < 0 or x2 < 0:\n",
    "        return np.inf\n",
    "    else:\n",
    "        return -((x1 ** rho + x2 ** rho) ** (1 / rho))\n",
    "\n",
    "# Restricción presupuestaria\n",
    "def presupuesto_c(x):\n",
    "    x1, x2 = x\n",
    "    return m - p1 * x1 - p2 * x2\n",
    "\n",
    "# Restricción adicional: cantidad mínima de bien 2\n",
    "def restriccion_minima_bien2(x):\n",
    "    x1, x2 = x\n",
    "    return x2 - 3  # x2 debe ser al menos 3\n",
    "\n",
    "# Especificación de restricciones y suposición inicial\n",
    "constraints = ({\"type\": \"eq\", \"fun\": presupuesto_c},\n",
    "               {\"type\": \"ineq\", \"fun\": restriccion_minima_bien2})\n",
    "initial_guess = [5, 4]\n",
    "\n",
    "# Minimización de la función de utilidad\n",
    "resultado = minimize(utilidad, initial_guess, constraints=constraints)\n",
    "x1, x2 = resultado.x\n",
    "\n",
    "# Impresión de resultados (redondeados a 2 decimales)\n",
    "print(f\"Demanda del Bien 1: {round(x1, 2)}\")\n",
    "print(f\"Demanda del Bien 2: {round(x2, 2)}\")"
   ]
  },
  {
   "cell_type": "markdown",
   "metadata": {},
   "source": [
    "### Ejercicio\n",
    "\n",
    "1. Replique la maximización pero hagalo cuando es una demanda de bienes sustitutos.\n",
    "2. ¿Cómo afecta la suposición inicial a la convergencia del algoritmo? Prueba con diferentes suposiciones iniciales como [3,4] y [6,7]."
   ]
  },
  {
   "cell_type": "markdown",
   "metadata": {},
   "source": []
  }
 ],
 "metadata": {
  "kernelspec": {
   "display_name": "Python 3",
   "language": "python",
   "name": "python3"
  },
  "language_info": {
   "codemirror_mode": {
    "name": "ipython",
    "version": 3
   },
   "file_extension": ".py",
   "mimetype": "text/x-python",
   "name": "python",
   "nbconvert_exporter": "python",
   "pygments_lexer": "ipython3",
   "version": "3.10.5"
  }
 },
 "nbformat": 4,
 "nbformat_minor": 2
}
