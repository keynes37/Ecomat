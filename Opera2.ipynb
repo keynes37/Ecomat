{
 "cells": [
  {
   "cell_type": "markdown",
   "metadata": {},
   "source": [
    "# Manual 02: Matrices\n",
    "## Universidad del Norte\n",
    "### Economía Matemática\n",
    "Esta es clase es referente a la parte **matricial**. Nuestro referente de insumo o la forma o manera como van los datos que usualmente utilizamos es con matrices y muchas de estas forman el desarrollo en cadena de multiples operaciones que nos llevaría tiempo hacer."
   ]
  },
  {
   "cell_type": "markdown",
   "metadata": {},
   "source": [
    "A continuación vamos a realizat un *set up* para mejorar un poco la interacción y desarrollo de estas en el ambiente de Python."
   ]
  },
  {
   "cell_type": "code",
   "execution_count": 11,
   "metadata": {},
   "outputs": [],
   "source": [
    "import numpy as np\n",
    "import sympy as sy\n",
    "\n",
    "sy.init_printing()"
   ]
  },
  {
   "cell_type": "code",
   "execution_count": 12,
   "metadata": {},
   "outputs": [],
   "source": [
    "np.set_printoptions(precision=3)\n",
    "np.set_printoptions(suppress=True)"
   ]
  },
  {
   "cell_type": "markdown",
   "metadata": {},
   "source": [
    "Vamos a importar un paquete para múltiples salidas"
   ]
  },
  {
   "cell_type": "code",
   "execution_count": 13,
   "metadata": {},
   "outputs": [],
   "source": [
    "from IPython.core.interactiveshell import InteractiveShell\n",
    "\n",
    "InteractiveShell.ast_node_interactivity = \"all\"  # Multiline activo"
   ]
  },
  {
   "cell_type": "code",
   "execution_count": 14,
   "metadata": {},
   "outputs": [],
   "source": [
    "def round_expr(expr, num_digits):\n",
    "    return expr.xreplace({n: round(n, num_digits) for n in expr.atoms(sy.Number)})"
   ]
  },
  {
   "cell_type": "markdown",
   "metadata": {},
   "source": [
    "## Matrices\n",
    "Conjunto de elementos ordenados en filas(m) y columnas(n) $A_{m\\times n}$. "
   ]
  },
  {
   "cell_type": "code",
   "execution_count": 15,
   "metadata": {},
   "outputs": [],
   "source": [
    "A = np.array([[1, 2, 3], [4, 6, 9], [11, 14, 21]])"
   ]
  },
  {
   "cell_type": "code",
   "execution_count": 16,
   "metadata": {},
   "outputs": [
    {
     "data": {
      "text/plain": [
       "array([[ 1,  2,  3],\n",
       "       [ 4,  6,  9],\n",
       "       [11, 14, 21]])"
      ]
     },
     "execution_count": 16,
     "metadata": {},
     "output_type": "execute_result"
    }
   ],
   "source": [
    "A"
   ]
  },
  {
   "cell_type": "code",
   "execution_count": 17,
   "metadata": {},
   "outputs": [
    {
     "data": {
      "text/plain": [
       "numpy.ndarray"
      ]
     },
     "execution_count": 17,
     "metadata": {},
     "output_type": "execute_result"
    }
   ],
   "source": [
    "type(A)"
   ]
  },
  {
   "cell_type": "markdown",
   "metadata": {},
   "source": [
    "Podemos conocer su tamaño $m \\times n$"
   ]
  },
  {
   "cell_type": "code",
   "execution_count": 18,
   "metadata": {},
   "outputs": [
    {
     "data": {
      "image/png": "[encoded data removed]",
      "text/latex": [
       "$\\displaystyle \\left( 3, \\  3\\right)$"
      ],
      "text/plain": [
       "(3, 3)"
      ]
     },
     "execution_count": 18,
     "metadata": {},
     "output_type": "execute_result"
    }
   ],
   "source": [
    "A.shape"
   ]
  },
  {
   "cell_type": "markdown",
   "metadata": {},
   "source": [
    "## Operación Básica\n",
    "Empezamos con un grupo pequeño de cálculo de operaciones. Miraremos primero las opciones que tenemos. Definimos dos matrices de tamaño $m \\times n$ y van a ser $A\\;y\\;B$"
   ]
  },
  {
   "cell_type": "markdown",
   "metadata": {},
   "source": [
    "$$\n",
    "A = \\begin{pmatrix}\n",
    "3 & 5 \\\\\n",
    "9 & 8\n",
    "\\end{pmatrix} B = \\begin{pmatrix}\n",
    "0 & 1 \\\\\n",
    "5 & 4\n",
    "\\end{pmatrix}\n",
    "$$"
   ]
  },
  {
   "cell_type": "code",
   "execution_count": 19,
   "metadata": {},
   "outputs": [],
   "source": [
    "A = np.array([[3, 5], [9, 8]])\n",
    "B = np.array([[0, 1], [5, 4]])"
   ]
  },
  {
   "cell_type": "markdown",
   "metadata": {},
   "source": [
    "Si por algun motivo pensamos en una suma de matrices o lo que es\n",
    "$$A+B$$"
   ]
  },
  {
   "cell_type": "code",
   "execution_count": 20,
   "metadata": {},
   "outputs": [
    {
     "data": {
      "text/plain": [
       "array([[ 3,  6],\n",
       "       [14, 12]])"
      ]
     },
     "execution_count": 20,
     "metadata": {},
     "output_type": "execute_result"
    }
   ],
   "source": [
    "A+B"
   ]
  },
  {
   "cell_type": "markdown",
   "metadata": {},
   "source": [
    "Así mismo con la resta."
   ]
  },
  {
   "cell_type": "code",
   "execution_count": 21,
   "metadata": {},
   "outputs": [
    {
     "data": {
      "text/plain": [
       "array([[3, 4],\n",
       "       [4, 4]])"
      ]
     },
     "execution_count": 21,
     "metadata": {},
     "output_type": "execute_result"
    }
   ],
   "source": [
    "A-B"
   ]
  },
  {
   "cell_type": "markdown",
   "metadata": {},
   "source": [
    "Si intentaramos hacer una operación como la multiplicación, si hay que tener cuidado. Porque cualquiera sea el caso"
   ]
  },
  {
   "cell_type": "code",
   "execution_count": 22,
   "metadata": {},
   "outputs": [
    {
     "data": {
      "text/plain": [
       "array([[ 0,  5],\n",
       "       [45, 32]])"
      ]
     },
     "execution_count": 22,
     "metadata": {},
     "output_type": "execute_result"
    }
   ],
   "source": [
    "A*B"
   ]
  },
  {
   "cell_type": "markdown",
   "metadata": {},
   "source": [
    "Que lo que esta haciendo viene a ser mas bien un producto a producto por orden de elemento pero no la forma o manera **Producto elemental de Hadamard**"
   ]
  },
  {
   "cell_type": "code",
   "execution_count": 23,
   "metadata": {},
   "outputs": [
    {
     "data": {
      "text/plain": [
       "array([[25, 23],\n",
       "       [40, 41]])"
      ]
     },
     "execution_count": 23,
     "metadata": {},
     "output_type": "execute_result"
    }
   ],
   "source": [
    "A@B"
   ]
  },
  {
   "cell_type": "markdown",
   "metadata": {},
   "source": [
    "Que no es mas que: \n",
    "\n",
    "$$\n",
    "A = \\begin{pmatrix}\n",
    "3 & 5 \\\\\n",
    "9 & 8\n",
    "\\end{pmatrix} B = \\begin{pmatrix}\n",
    "0 & 1 \\\\\n",
    "5 & 4\n",
    "\\end{pmatrix}= \\begin{pmatrix}\n",
    "25 & 23 \\\\\n",
    "40 & 41\n",
    "\\end{pmatrix} \n",
    "$$\n"
   ]
  },
  {
   "cell_type": "markdown",
   "metadata": {},
   "source": [
    "Si queremos ver explicitamente lo anterior, una especie de paso a paso. Es tener por ejemplo:"
   ]
  },
  {
   "cell_type": "code",
   "execution_count": 24,
   "metadata": {},
   "outputs": [
    {
     "data": {
      "text/plain": [
       "25"
      ]
     },
     "execution_count": 24,
     "metadata": {},
     "output_type": "execute_result"
    },
    {
     "data": {
      "text/plain": [
       "23"
      ]
     },
     "execution_count": 24,
     "metadata": {},
     "output_type": "execute_result"
    },
    {
     "data": {
      "text/plain": [
       "40"
      ]
     },
     "execution_count": 24,
     "metadata": {},
     "output_type": "execute_result"
    },
    {
     "data": {
      "text/plain": [
       "41"
      ]
     },
     "execution_count": 24,
     "metadata": {},
     "output_type": "execute_result"
    }
   ],
   "source": [
    "np.sum(A[0, :] * B[:, 0])  # elemento de (1, 1)\n",
    "np.sum(A[0, :] * B[:, 1])  # elemento de (1, 2)\n",
    "np.sum(A[1, :] * B[:, 0])  # elemento de (2, 1)\n",
    "np.sum(A[1, :] * B[:, 1])  # elemento de (2, 2)"
   ]
  },
  {
   "cell_type": "markdown",
   "metadata": {},
   "source": [
    "Note que el indice de Python siempre empieza desde cero, Para el caso $a_{ij}=a_{11}=a_{00}$"
   ]
  },
  {
   "cell_type": "markdown",
   "metadata": {},
   "source": [
    "### Ejercicio\n",
    "\n",
    "$$\\text{1. Dadas las matrices } A = \\begin{pmatrix}\n",
    "2 & 3 \\\\\n",
    "4 & 5\n",
    "\\end{pmatrix} \\text{ y } B = \\begin{pmatrix}\n",
    "1 & 0 \\\\\n",
    "2 & 3\n",
    "\\end{pmatrix}, \\text{ calcule } A + B.$$"
   ]
  },
  {
   "cell_type": "markdown",
   "metadata": {},
   "source": [
    "$$\\text{2. Dadas las matrices } C = \\begin{pmatrix}\n",
    "1 & 2 \\\\\n",
    "3 & 4\n",
    "\\end{pmatrix} \\text{ y } D = \\begin{pmatrix}\n",
    "0 & 1 \\\\\n",
    "1 & 0\n",
    "\\end{pmatrix}, \\text{ calcule ahora } C \\times D.$$"
   ]
  },
  {
   "cell_type": "markdown",
   "metadata": {},
   "source": [
    "## Algebra, matrices y notación\n",
    "A continuación vamos a mirar como el paquete *Sympy* nos permite tambien realizar o hacer operaciones con (letras)."
   ]
  },
  {
   "cell_type": "code",
   "execution_count": 36,
   "metadata": {},
   "outputs": [],
   "source": [
    "a, b, c, d, e, f, g, h, i, j, k, l, m, n, o, p, q, r, s, t, u, v, w, x, y, z = (\n",
    "    sy.symbols(\n",
    "        \"a, b, c, d, e, f, g, h, i, j, k, l, m, n, o, p, q, r, s, t, u, v, w, x, y, z\",\n",
    "        real=True,\n",
    "    )\n",
    ")"
   ]
  },
  {
   "cell_type": "markdown",
   "metadata": {},
   "source": [
    "Ahora veamos el truco de uso"
   ]
  },
  {
   "cell_type": "code",
   "execution_count": 26,
   "metadata": {},
   "outputs": [
    {
     "data": {
      "image/png": "[encoded data removed]",
      "text/latex": [
       "$\\displaystyle \\left[\\begin{matrix}2 a & 2 b & 2 c\\\\2 d & 2 e & 2 f\\end{matrix}\\right]$"
      ],
      "text/plain": [
       "⎡2⋅a  2⋅b  2⋅c⎤\n",
       "⎢             ⎥\n",
       "⎣2⋅d  2⋅e  2⋅f⎦"
      ]
     },
     "execution_count": 26,
     "metadata": {},
     "output_type": "execute_result"
    },
    {
     "data": {
      "image/png": "[encoded data removed]",
      "text/latex": [
       "$\\displaystyle \\left[\\begin{matrix}0 & 0 & 0\\\\0 & 0 & 0\\end{matrix}\\right]$"
      ],
      "text/plain": [
       "⎡0  0  0⎤\n",
       "⎢       ⎥\n",
       "⎣0  0  0⎦"
      ]
     },
     "execution_count": 26,
     "metadata": {},
     "output_type": "execute_result"
    },
    {
     "data": {
      "image/png": "[encoded data removed]",
      "text/latex": [
       "$\\displaystyle \\left[\\begin{matrix}a & b & c\\\\d & e & f\\end{matrix}\\right]$"
      ],
      "text/plain": [
       "⎡a  b  c⎤\n",
       "⎢       ⎥\n",
       "⎣d  e  f⎦"
      ]
     },
     "execution_count": 26,
     "metadata": {},
     "output_type": "execute_result"
    }
   ],
   "source": [
    "A = sy.Matrix([[a, b, c], [d, e, f]])\n",
    "A + A\n",
    "A - A\n",
    "2*A-A"
   ]
  },
  {
   "cell_type": "markdown",
   "metadata": {},
   "source": [
    "A continuación crearemos una matriz adicional y seguiremos desarrollando otras operaciones."
   ]
  },
  {
   "cell_type": "code",
   "execution_count": 27,
   "metadata": {},
   "outputs": [
    {
     "data": {
      "image/png": "[encoded data removed]",
      "text/latex": [
       "$\\displaystyle \\left[\\begin{matrix}a + g & b + h & c + i\\\\d + j & e + k & f + l\\end{matrix}\\right]$"
      ],
      "text/plain": [
       "⎡a + g  b + h  c + i⎤\n",
       "⎢                   ⎥\n",
       "⎣d + j  e + k  f + l⎦"
      ]
     },
     "execution_count": 27,
     "metadata": {},
     "output_type": "execute_result"
    },
    {
     "data": {
      "image/png": "[encoded data removed]",
      "text/latex": [
       "$\\displaystyle \\left[\\begin{matrix}a - g & b - h & c - i\\\\d - j & e - k & f - l\\end{matrix}\\right]$"
      ],
      "text/plain": [
       "⎡a - g  b - h  c - i⎤\n",
       "⎢                   ⎥\n",
       "⎣d - j  e - k  f - l⎦"
      ]
     },
     "execution_count": 27,
     "metadata": {},
     "output_type": "execute_result"
    }
   ],
   "source": [
    "B = sy.Matrix([[g, h, i], [j, k, l]])\n",
    "A + B\n",
    "A - B"
   ]
  },
  {
   "cell_type": "markdown",
   "metadata": {},
   "source": [
    "Ya claro la parte de las sumas y restas pasemos entonces a la parte del producto"
   ]
  },
  {
   "cell_type": "code",
   "execution_count": 28,
   "metadata": {},
   "outputs": [
    {
     "data": {
      "image/png": "[encoded data removed]",
      "text/latex": [
       "$\\displaystyle \\left[\\begin{matrix}a & b & c\\\\d & e & f\\end{matrix}\\right]$"
      ],
      "text/plain": [
       "⎡a  b  c⎤\n",
       "⎢       ⎥\n",
       "⎣d  e  f⎦"
      ]
     },
     "execution_count": 28,
     "metadata": {},
     "output_type": "execute_result"
    },
    {
     "data": {
      "image/png": "[encoded data removed]",
      "text/latex": [
       "$\\displaystyle \\left[\\begin{matrix}g & h & i\\\\j & k & l\\\\m & n & o\\end{matrix}\\right]$"
      ],
      "text/plain": [
       "⎡g  h  i⎤\n",
       "⎢       ⎥\n",
       "⎢j  k  l⎥\n",
       "⎢       ⎥\n",
       "⎣m  n  o⎦"
      ]
     },
     "execution_count": 28,
     "metadata": {},
     "output_type": "execute_result"
    }
   ],
   "source": [
    "A = sy.Matrix([[a, b, c], [d, e, f]])\n",
    "B = sy.Matrix([[g, h, i], [j, k, l], [m, n, o]])\n",
    "A\n",
    "B"
   ]
  },
  {
   "cell_type": "markdown",
   "metadata": {},
   "source": [
    "Cuando entonces vemos que si aplicamos lo conmutable, veremos como se emplea en realidad el desarrollo de cada uno de los elementos contenidos en una matriz."
   ]
  },
  {
   "cell_type": "code",
   "execution_count": 29,
   "metadata": {},
   "outputs": [
    {
     "data": {
      "image/png": "[encoded data removed]",
      "text/latex": [
       "$\\displaystyle \\left[\\begin{matrix}a g + b j + c m & a h + b k + c n & a i + b l + c o\\\\d g + e j + f m & d h + e k + f n & d i + e l + f o\\end{matrix}\\right]$"
      ],
      "text/plain": [
       "⎡a⋅g + b⋅j + c⋅m  a⋅h + b⋅k + c⋅n  a⋅i + b⋅l + c⋅o⎤\n",
       "⎢                                                 ⎥\n",
       "⎣d⋅g + e⋅j + f⋅m  d⋅h + e⋅k + f⋅n  d⋅i + e⋅l + f⋅o⎦"
      ]
     },
     "execution_count": 29,
     "metadata": {},
     "output_type": "execute_result"
    }
   ],
   "source": [
    "AB = A * B\n",
    "AB"
   ]
  },
  {
   "cell_type": "markdown",
   "metadata": {},
   "source": [
    "*Note adicionalmente que el producto se desarrolla tal cual es requerido por ese tipo de operación*"
   ]
  },
  {
   "cell_type": "markdown",
   "metadata": {},
   "source": [
    "### Propiedades\n",
    "Miremos un ejemplo mas clave. La multiplicación de matrices suele ser \"no conmutable\". Por ello, vamos a tomar como ejemplo"
   ]
  },
  {
   "cell_type": "code",
   "execution_count": 30,
   "metadata": {},
   "outputs": [
    {
     "data": {
      "image/png": "[encoded data removed]",
      "text/latex": [
       "$\\displaystyle \\left[\\begin{matrix}23 & 48\\\\24 & 30\\end{matrix}\\right]$"
      ],
      "text/plain": [
       "⎡23  48⎤\n",
       "⎢      ⎥\n",
       "⎣24  30⎦"
      ]
     },
     "execution_count": 30,
     "metadata": {},
     "output_type": "execute_result"
    },
    {
     "data": {
      "image/png": "[encoded data removed]",
      "text/latex": [
       "$\\displaystyle \\left[\\begin{matrix}21 & 14\\\\81 & 32\\end{matrix}\\right]$"
      ],
      "text/plain": [
       "⎡21  14⎤\n",
       "⎢      ⎥\n",
       "⎣81  32⎦"
      ]
     },
     "execution_count": 30,
     "metadata": {},
     "output_type": "execute_result"
    }
   ],
   "source": [
    "A = sy.Matrix([[9, 2], [3, 3]])\n",
    "B = sy.Matrix([[1, 4], [7, 6]])\n",
    "A * B\n",
    "B * A"
   ]
  },
  {
   "cell_type": "markdown",
   "metadata": {},
   "source": [
    "Siendo objetivos viene a ser algo como:"
   ]
  },
  {
   "cell_type": "code",
   "execution_count": 31,
   "metadata": {},
   "outputs": [
    {
     "data": {
      "image/png": "[encoded data removed]",
      "text/latex": [
       "$\\displaystyle \\left[\\begin{matrix}a e + b g & a f + b h\\\\c e + d g & c f + d h\\end{matrix}\\right]$"
      ],
      "text/plain": [
       "⎡a⋅e + b⋅g  a⋅f + b⋅h⎤\n",
       "⎢                    ⎥\n",
       "⎣c⋅e + d⋅g  c⋅f + d⋅h⎦"
      ]
     },
     "execution_count": 31,
     "metadata": {},
     "output_type": "execute_result"
    },
    {
     "data": {
      "image/png": "[encoded data removed]",
      "text/latex": [
       "$\\displaystyle \\left[\\begin{matrix}a e + c f & b e + d f\\\\a g + c h & b g + d h\\end{matrix}\\right]$"
      ],
      "text/plain": [
       "⎡a⋅e + c⋅f  b⋅e + d⋅f⎤\n",
       "⎢                    ⎥\n",
       "⎣a⋅g + c⋅h  b⋅g + d⋅h⎦"
      ]
     },
     "execution_count": 31,
     "metadata": {},
     "output_type": "execute_result"
    }
   ],
   "source": [
    "A = sy.Matrix([[a, b], [c, d]])\n",
    "B = sy.Matrix([[e, f], [g, h]])\n",
    "A * B\n",
    "B * A"
   ]
  },
  {
   "cell_type": "markdown",
   "metadata": {},
   "source": [
    "Para definir que $AB=BA$, habría que pensar que $AB-BA=0$"
   ]
  },
  {
   "cell_type": "code",
   "execution_count": 32,
   "metadata": {},
   "outputs": [
    {
     "data": {
      "image/png": "[encoded data removed]",
      "text/latex": [
       "$\\displaystyle \\left[\\begin{matrix}b g - c f & a f - b e + b h - d f\\\\- a g + c e - c h + d g & - b g + c f\\end{matrix}\\right]$"
      ],
      "text/plain": [
       "⎡      b⋅g - c⋅f         a⋅f - b⋅e + b⋅h - d⋅f⎤\n",
       "⎢                                             ⎥\n",
       "⎣-a⋅g + c⋅e - c⋅h + d⋅g       -b⋅g + c⋅f      ⎦"
      ]
     },
     "execution_count": 32,
     "metadata": {},
     "output_type": "execute_result"
    }
   ],
   "source": [
    "P = A * B - B * A\n",
    "P"
   ]
  },
  {
   "cell_type": "markdown",
   "metadata": {},
   "source": [
    "De lo anterior debemos llevarlo a igualar cada uno de ellos a cero. Iremos primero por filas y luego si su respectiva columna\n",
    "\n",
    "Este sistema queda como:\n",
    "\n",
    "$$\\begin{align}\n",
    "bg-cf= & 0 \\\\\n",
    "af-bc+bh-df & 0 \\\\\n",
    "-age+ce-ch+dg= & 0 \\\\\n",
    "-bg+cf= & 0\n",
    "\\end{align}$$ \n"
   ]
  },
  {
   "cell_type": "markdown",
   "metadata": {},
   "source": [
    "Un primer intento es mirar la reducción por Gauss-Jordan para resolver ese sistema ecuacional\n",
    "\n",
    "\\begin{align*}\n",
    "    bg - cf &= 0 \\quad &\\Rightarrow -cf + bg + 0e + 0h = 0 \\\\\n",
    "    af - be + bh - df &= 0 \\quad &\\Rightarrow (a - d)f + 0g - be + bh = 0 \\\\\n",
    "    -ag + ce - ch + dg &= 0 \\quad &\\Rightarrow 0f + (d - a)g + ce - ch = 0 \\\\\n",
    "    -bg + cf &= 0 \\quad &\\Rightarrow cf - bg + 0e + 0h = 0\n",
    "\\end{align*}"
   ]
  },
  {
   "cell_type": "markdown",
   "metadata": {},
   "source": [
    "Note que hemos organizado el <span style=\"color:blue\">Sistema</span>. De tal manera que podamos reducirlo ordenadamente"
   ]
  },
  {
   "cell_type": "markdown",
   "metadata": {},
   "source": [
    "Resolver matrices de forma aumentada no es trivial. Es bueno tener claro su montaje. Para ello mire lo siguiente:\n",
    "\n",
    "$$\\begin{equation}\n",
    "\\left[\n",
    "\\begin{array}{cccc:c}\n",
    "-c & b & 0 & 0 & 0 \\\\\n",
    "a-d & 0 & -b & b & 0 \\\\\n",
    "0 & d-a & c & -c & 0 \\\\\n",
    "c & -b & 0 & 0 & 0\n",
    "\\end{array}\n",
    "\\right]\n",
    "\\end{equation}\n",
    "$$"
   ]
  },
  {
   "cell_type": "markdown",
   "metadata": {},
   "source": [
    "Miremos entonces como escribirla en Python"
   ]
  },
  {
   "cell_type": "code",
   "execution_count": 33,
   "metadata": {},
   "outputs": [
    {
     "data": {
      "image/png": "[encoded data removed]",
      "text/latex": [
       "$\\displaystyle \\left[\\begin{matrix}- c & b & 0 & 0\\\\a - d & 0 & - b & b\\\\0 & - a + d & c & - c\\\\c & - b & 0 & 0\\end{matrix}\\right]$"
      ],
      "text/plain": [
       "⎡ -c      b     0   0 ⎤\n",
       "⎢                     ⎥\n",
       "⎢a - d    0     -b  b ⎥\n",
       "⎢                     ⎥\n",
       "⎢  0    -a + d  c   -c⎥\n",
       "⎢                     ⎥\n",
       "⎣  c      -b    0   0 ⎦"
      ]
     },
     "execution_count": 33,
     "metadata": {},
     "output_type": "execute_result"
    }
   ],
   "source": [
    "A_aum = sy.Matrix([[-c, b, 0, 0], [a - d, 0, -b, b], [0, d - a, c, -c], [c, -b, 0, 0]])\n",
    "A_aum"
   ]
  },
  {
   "cell_type": "code",
   "execution_count": 34,
   "metadata": {},
   "outputs": [
    {
     "data": {
      "image/png": "[encoded data removed]",
      "text/latex": [
       "$\\displaystyle \\left( \\left[\\begin{matrix}1 & 0 & - \\frac{b}{a - d} & \\frac{b}{a - d}\\\\0 & 1 & \\frac{b c}{- a b + b d} & \\frac{c}{a - d}\\\\0 & 0 & 0 & 0\\\\0 & 0 & 0 & 0\\end{matrix}\\right], \\  \\left( 0, \\  1\\right)\\right)$"
      ],
      "text/plain": [
       "⎛⎡         -b         b  ⎤        ⎞\n",
       "⎜⎢1  0    ─────     ─────⎥        ⎟\n",
       "⎜⎢        a - d     a - d⎥        ⎟\n",
       "⎜⎢                       ⎥        ⎟\n",
       "⎜⎢         b⋅c        c  ⎥        ⎟\n",
       "⎜⎢0  1  ──────────  ─────⎥, (0, 1)⎟\n",
       "⎜⎢      -a⋅b + b⋅d  a - d⎥        ⎟\n",
       "⎜⎢                       ⎥        ⎟\n",
       "⎜⎢0  0      0         0  ⎥        ⎟\n",
       "⎜⎢                       ⎥        ⎟\n",
       "⎝⎣0  0      0         0  ⎦        ⎠"
      ]
     },
     "execution_count": 34,
     "metadata": {},
     "output_type": "execute_result"
    }
   ],
   "source": [
    "A_aum.rref()"
   ]
  },
  {
   "cell_type": "markdown",
   "metadata": {},
   "source": [
    "#### Solución del sistema"
   ]
  },
  {
   "cell_type": "code",
   "execution_count": 35,
   "metadata": {},
   "outputs": [
    {
     "name": "stdout",
     "output_type": "stream",
     "text": [
      "Solucion de los elementos de matriz B:\n",
      "e: h + g*(a - d)/c\n",
      "f: b*g/c\n",
      "\n",
      "Solución Paramétrica:\n",
      "e: c_{2} + \\frac{c_{1} \\left(a - d\\right)}{c}\n",
      "f: \\frac{b c_{1}}{c}\n",
      "g: c_{1}\n",
      "h: c_{2}\n"
     ]
    }
   ],
   "source": [
    "import sympy as sp\n",
    "\n",
    "# Las entradas de variables (como simbolos)\n",
    "a, b, c, d = sp.symbols(\"a b c d\")\n",
    "\n",
    "# Siguiente matriz\n",
    "e, f, g, h = sp.symbols(\"e f g h\")\n",
    "\n",
    "# Montaje de Matrices\n",
    "A = sp.Matrix([[a, b], [c, d]])\n",
    "B = sp.Matrix([[e, f], [g, h]])\n",
    "\n",
    "# Hallamos productos\n",
    "AB = A * B\n",
    "BA = B * A\n",
    "\n",
    "# Va el conjunto de ecuaciones\n",
    "ecuaciones = [sp.Eq(AB[i, j], BA[i, j]) for i in range(2) for j in range(2)]\n",
    "\n",
    "# Solve the system of equations\n",
    "solucion = sp.solve(ecuaciones, (e, f, g, h))\n",
    "\n",
    "# Print the general solutions\n",
    "print(\"Solucion de los elementos de matriz B:\")\n",
    "for sol in solucion:\n",
    "    print(f\"{sol}: {solucion[sol]}\")\n",
    "\n",
    "# Parámetros de sustitución\n",
    "# Es hora de definir c1 y c2\n",
    "c1, c2 = sp.symbols(\"c1 c2\")\n",
    "\n",
    "# Definimos la solución\n",
    "parametric_solucion = {\n",
    "    e: solucion[e].subs({g: c1, h: c2}),\n",
    "    f: solucion[f].subs({g: c1, h: c2}),\n",
    "    g: c1,\n",
    "    h: c2,\n",
    "}\n",
    "\n",
    "# Print the parameterized solution in LaTeX format\n",
    "print(\"\\nSolución Paramétrica:\")\n",
    "for sol in parametric_solucion:\n",
    "    print(f\"{sp.latex(sol)}: {sp.latex(parametric_solucion[sol])}\")"
   ]
  },
  {
   "cell_type": "markdown",
   "metadata": {},
   "source": [
    "Solución Paramétrica:\n",
    "$$e: c_{2} + \\frac{c_{1} \\left(a - d\\right)}{c}\n",
    "f: \\frac{b c_{1}}{c}\n",
    "g: c_{1}\n",
    "h: c_{2}$$"
   ]
  },
  {
   "cell_type": "markdown",
   "metadata": {},
   "source": [
    "--------"
   ]
  },
  {
   "cell_type": "markdown",
   "metadata": {},
   "source": [
    "## Agradecimientos y créditos\n",
    "Mucho de este material se desarrolló gracias a los recursos construidos por el Profesor \n",
    "**Weijie Chen** y el Doctor **Div Baghia** de California State University. © *Todos los derechos reservados* \n"
   ]
  }
 ],
 "metadata": {
  "kernelspec": {
   "display_name": "Python 3",
   "language": "python",
   "name": "python3"
  },
  "language_info": {
   "codemirror_mode": {
    "name": "ipython",
    "version": 3
   },
   "file_extension": ".py",
   "mimetype": "text/x-python",
   "name": "python",
   "nbconvert_exporter": "python",
   "pygments_lexer": "ipython3",
   "version": "3.10.5"
  }
 },
 "nbformat": 4,
 "nbformat_minor": 2
}
