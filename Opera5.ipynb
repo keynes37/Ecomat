{
 "cells": [
  {
   "cell_type": "markdown",
   "metadata": {},
   "source": [
    "# Manual 05: Optimización Básica para logistica\n",
    "## Universidad del Norte\n",
    "### Economía Matemática\n",
    "El problema de **transporte** es un tipo de problema de optimización lineal que busca minimizar el costo de transportar bienes desde varios puntos de oferta a varios puntos de demanda. En este manual, aprenderás cómo resolver este problema utilizando la biblioteca `pulp` en Python."
   ]
  },
  {
   "cell_type": "markdown",
   "metadata": {},
   "source": [
    "### Caso de Fábrica\n",
    "\n",
    "Una empresa de distribución de granos tiene tres silos (Silo 1, Silo 2 y Silo 3) y cuatro molinos (Molino 1, Molino 2, Molino 3 y Molino 4). La empresa necesita transportar granos desde los silos hasta los molinos de manera que se **minimicen los costos de transporte**. Cada silo tiene una cantidad limitada de granos disponibles, y cada molino tiene una demanda específica de granos que debe ser satisfecha."
   ]
  },
  {
   "cell_type": "markdown",
   "metadata": {},
   "source": [
    "#### Oferta de los Silos:\n",
    "* Silo 1: 15 unidades de granos\n",
    "* Silo 2: 25 unidades de granos\n",
    "* Silo 3: 10 unidades de granos\n",
    "\n",
    "#### Demanda de los Molinos:\n",
    "* Molino 1: 5 unidades de granos\n",
    "* Molino 2: 15 unidades de granos\n",
    "* Molino 3: 15 unidades de granos\n",
    "* Molino 4: 15 unidades de granos\n",
    "\n",
    "#### Costos de Transporte (en unidades monetarias por unidad de grano):\n",
    "Desde Silo 1:\n",
    "* A Molino 1: 10\n",
    "* A Molino 2: 2\n",
    "* A Molino 3: 20\n",
    "* A Molino 4: 11\n",
    "        \n",
    "Desde Silo 2:\n",
    "* A Molino 1: 7\n",
    "* A Molino 2: 9\n",
    "* A Molino 3: 24\n",
    "* A Molino 4: 18\n",
    "\n",
    "Desde Silo 3:\n",
    "* A Molino 1: 4\n",
    "* A Molino 2: 14\n",
    "* A Molino 3: 16\n",
    "* A Molino 4: 18\n",
    "\n",
    "#### Objetivo:\n",
    "\n",
    "Minimizar el **costo total** de transporte de granos desde los silos hasta los molinos, asegurando que la oferta de cada silo no se exceda y que la demanda de cada molino se satisfaga."
   ]
  },
  {
   "cell_type": "markdown",
   "metadata": {},
   "source": [
    "### Ecuaciones del problema\n",
    "\n",
    "$$\\text{Costo total}= \\sum\\limits_{i\\in Silos} \\sum \\limits_{j \\in Molinos} x_{ij} \\times C_{ij}$$\n",
    "\n",
    "Las restricciones van en el orden de:\n",
    "\n",
    "$$\\sum \\limits_{j \\in Molinos} x_{ij} \\leq \\text{Oferta del Silo}_i \\; \\forall i \\in \\text{silos}$$\n",
    "\n",
    "$$\\sum \\limits_{i \\in Silos} x_{ij} \\geq \\text{Demanda de Molinos}_j \\; \\forall j \\in \\text{Molinos}$$"
   ]
  },
  {
   "cell_type": "code",
   "execution_count": 1,
   "metadata": {},
   "outputs": [],
   "source": [
    "# Paquete a usar\n",
    "import pulp"
   ]
  },
  {
   "cell_type": "markdown",
   "metadata": {},
   "source": [
    "La idea es ir montando un diccionario de variables"
   ]
  },
  {
   "cell_type": "code",
   "execution_count": 2,
   "metadata": {},
   "outputs": [],
   "source": [
    "oferta = {\"Silo 1\": 15, \"Silo 2\": 25, \"Silo 3\": 10}\n",
    "demanda = {\"Molino 1\": 5, \"Molino 2\": 15, \"Molino 3\": 15, \"Molino 4\": 15}\n",
    "costos = {\"Silo 1\": {\"Molino 1\": 10, \"Molino 2\": 2, \"Molino 3\": 20, \"Molino 4\": 11},\n",
    "          \"Silo 2\": {\"Molino 1\": 7, \"Molino 2\": 9, \"Molino 3\": 24, \"Molino 4\": 18},\n",
    "          \"Silo 3\": {\"Molino 1\": 4, \"Molino 2\": 14, \"Molino 3\": 16, \"Molino 4\": 18}}"
   ]
  },
  {
   "cell_type": "markdown",
   "metadata": {},
   "source": [
    "Se define el problema central"
   ]
  },
  {
   "cell_type": "code",
   "execution_count": 4,
   "metadata": {},
   "outputs": [],
   "source": [
    "problema = pulp.LpProblem(\"Transporte\", pulp.LpMinimize)"
   ]
  },
  {
   "cell_type": "markdown",
   "metadata": {},
   "source": [
    "Tenemos una de las restricciones como lo es la oferta"
   ]
  },
  {
   "cell_type": "code",
   "execution_count": 5,
   "metadata": {},
   "outputs": [],
   "source": [
    "x = pulp.LpVariable.dicts(\"x\", ((i, j) for i in oferta for j in demanda), lowBound=0, cat=\"Integer\")"
   ]
  },
  {
   "cell_type": "markdown",
   "metadata": {},
   "source": [
    "A continuación viene la parte del costo de transporte"
   ]
  },
  {
   "cell_type": "code",
   "execution_count": 6,
   "metadata": {},
   "outputs": [],
   "source": [
    "problema += pulp.lpSum([x[(i, j)] * costos[i][j] for i in oferta for j in demanda]), \"Costo total de transporte\""
   ]
  },
  {
   "cell_type": "markdown",
   "metadata": {},
   "source": [
    "Una restricción mas como lo es la oferta"
   ]
  },
  {
   "cell_type": "code",
   "execution_count": null,
   "metadata": {},
   "outputs": [],
   "source": [
    "for i in oferta:\n",
    "    problema += pulp.lpSum([x[(i, j)] for j in demanda]) <= oferta[i], f\"Oferta de {i}\""
   ]
  },
  {
   "cell_type": "markdown",
   "metadata": {},
   "source": [
    "El punto de recepción de demanda al límite de lo solicitado"
   ]
  },
  {
   "cell_type": "code",
   "execution_count": 7,
   "metadata": {},
   "outputs": [],
   "source": [
    "for j in demanda:\n",
    "    problema += pulp.lpSum([x[(i, j)] for i in oferta]) >= demanda[j], f\"Demanda de {j}\""
   ]
  },
  {
   "cell_type": "code",
   "execution_count": 8,
   "metadata": {},
   "outputs": [
    {
     "name": "stdout",
     "output_type": "stream",
     "text": [
      "Welcome to the CBC MILP Solver \n",
      "Version: 2.10.3 \n",
      "Build Date: Dec 15 2019 \n",
      "\n",
      "command line - /Library/Frameworks/Python.framework/Versions/3.10/lib/python3.10/site-packages/pulp/apis/../solverdir/cbc/osx/i64/cbc /var/folders/y7/xnq2gn1x2cs79dhd19wnj9wm0000gn/T/a2b5c7af320445bb88b2fcc553f2a6cf-pulp.mps -timeMode elapsed -branch -printingOptions all -solution /var/folders/y7/xnq2gn1x2cs79dhd19wnj9wm0000gn/T/a2b5c7af320445bb88b2fcc553f2a6cf-pulp.sol (default strategy 1)\n",
      "At line 2 NAME          MODEL\n",
      "At line 3 ROWS\n",
      "At line 9 COLUMNS\n",
      "At line 58 RHS\n",
      "At line 63 BOUNDS\n",
      "At line 76 ENDATA\n",
      "Problem MODEL has 4 rows, 12 columns and 12 elements\n",
      "Coin0008I MODEL read with 0 errors\n",
      "Option for timeMode changed from cpu to elapsed\n",
      "Continuous objective value is 455 - 0.00 seconds\n",
      "Cgl0004I processed model has 0 rows, 0 columns (0 integer (0 of which binary)) and 0 elements\n",
      "Cbc3007W No integer variables - nothing to do\n",
      "Cuts at root node changed objective from 455 to -1.79769e+308\n",
      "Probing was tried 0 times and created 0 cuts of which 0 were active after adding rounds of cuts (0.000 seconds)\n",
      "Gomory was tried 0 times and created 0 cuts of which 0 were active after adding rounds of cuts (0.000 seconds)\n",
      "Knapsack was tried 0 times and created 0 cuts of which 0 were active after adding rounds of cuts (0.000 seconds)\n",
      "Clique was tried 0 times and created 0 cuts of which 0 were active after adding rounds of cuts (0.000 seconds)\n",
      "MixedIntegerRounding2 was tried 0 times and created 0 cuts of which 0 were active after adding rounds of cuts (0.000 seconds)\n",
      "FlowCover was tried 0 times and created 0 cuts of which 0 were active after adding rounds of cuts (0.000 seconds)\n",
      "TwoMirCuts was tried 0 times and created 0 cuts of which 0 were active after adding rounds of cuts (0.000 seconds)\n",
      "ZeroHalf was tried 0 times and created 0 cuts of which 0 were active after adding rounds of cuts (0.000 seconds)\n",
      "\n",
      "Result - Optimal solution found\n",
      "\n",
      "Objective value:                455.00000000\n",
      "Enumerated nodes:               0\n",
      "Total iterations:               0\n",
      "Time (CPU seconds):             0.00\n",
      "Time (Wallclock seconds):       0.00\n",
      "\n",
      "Option for printingOptions changed from normal to all\n",
      "Total time (CPU seconds):       0.00   (Wallclock seconds):       0.00\n",
      "\n"
     ]
    },
    {
     "data": {
      "text/plain": [
       "1"
      ]
     },
     "execution_count": 8,
     "metadata": {},
     "output_type": "execute_result"
    }
   ],
   "source": [
    "problema.solve()"
   ]
  },
  {
   "cell_type": "code",
   "execution_count": 9,
   "metadata": {},
   "outputs": [
    {
     "name": "stdout",
     "output_type": "stream",
     "text": [
      "El costo total de transporte mínimo es: 455.0\n",
      "Se deben transportar 15.0 camiones cargados desde Silo 1 hasta Molino 2.\n",
      "Se deben transportar 15.0 camiones cargados desde Silo 1 hasta Molino 4.\n",
      "Se deben transportar 5.0 camiones cargados desde Silo 3 hasta Molino 1.\n",
      "Se deben transportar 15.0 camiones cargados desde Silo 3 hasta Molino 3.\n"
     ]
    }
   ],
   "source": [
    "if problema.status == pulp.LpStatusOptimal:\n",
    "    costo_minimo = pulp.value(problema.objective)\n",
    "    print(f\"El costo total de transporte mínimo es: {costo_minimo}\")\n",
    "    for i in oferta:\n",
    "        for j in demanda:\n",
    "            cantidad = x[(i, j)].varValue\n",
    "            if cantidad > 0:\n",
    "                print(f\"Se deben transportar {cantidad} camiones cargados desde {i} hasta {j}.\")\n",
    "else:\n",
    "    print(\"El problema no tiene solución óptima.\")"
   ]
  },
  {
   "cell_type": "markdown",
   "metadata": {},
   "source": [
    "Este manual te ha guiado a través de los pasos necesarios para resolver un problema de transporte utilizando la biblioteca pulp en Python. Puedes ajustar los datos de oferta, demanda y costos para explorar diferentes escenarios y ver cómo afectan los resultados."
   ]
  },
  {
   "cell_type": "markdown",
   "metadata": {},
   "source": [
    "-------"
   ]
  },
  {
   "cell_type": "markdown",
   "metadata": {},
   "source": [
    "# Ejercicio Final\n",
    "### Optimización de Costos de Transporte  \n",
    "#### Contexto  \n",
    "\n",
    "Una empresa tiene tres fábricas (**A, B, C**) y cuatro centros de distribución (**1, 2, 3, 4**).  \n",
    "Cada fábrica tiene una **capacidad de producción** limitada y cada centro de distribución tiene una **demanda específica**.  \n",
    "El objetivo de la empresa es **minimizar los costos de transporte** desde las fábricas hasta los centros de distribución.  "
   ]
  },
  {
   "cell_type": "markdown",
   "metadata": {},
   "source": [
    "## Datos  \n",
    "\n",
    "### Capacidades de las fábricas  \n",
    "- **Fábrica A**: 500 unidades  \n",
    "- **Fábrica B**: 600 unidades  \n",
    "- **Fábrica C**: 400 unidades  \n",
    "\n",
    "### Demandas de los centros de distribución  \n",
    "- **Centro 1**: 300 unidades  \n",
    "- **Centro 2**: 400 unidades  \n",
    "- **Centro 3**: 500 unidades  \n",
    "- **Centro 4**: 300 unidades  "
   ]
  },
  {
   "cell_type": "markdown",
   "metadata": {},
   "source": [
    "\n",
    "| Fábricas    | Centro 1  | Centro 2  | Centro 3  | Centro 4  |\n",
    "|------------|-----------|-----------|-----------|-----------|\n",
    "| *Fábrica A*  | 1000000 | 1200000 | 1500000 | 1300000 |\n",
    "| *Fábrica B*  | 1100000 | 1000000 | 1400000 | 1200000 |\n",
    "| *Fábrica C*  | 1300000 | 1200000 | 700000  | 900000  |\n"
   ]
  },
  {
   "cell_type": "markdown",
   "metadata": {},
   "source": [
    "## Objetivo  \n",
    "\n",
    "Minimizar el **costo total de transporte** cumpliendo con las **capacidades de las fábricas** y las **demandas de los centros de distribución**."
   ]
  }
 ],
 "metadata": {
  "kernelspec": {
   "display_name": "Python 3",
   "language": "python",
   "name": "python3"
  },
  "language_info": {
   "codemirror_mode": {
    "name": "ipython",
    "version": 3
   },
   "file_extension": ".py",
   "mimetype": "text/x-python",
   "name": "python",
   "nbconvert_exporter": "python",
   "pygments_lexer": "ipython3",
   "version": "3.10.5"
  }
 },
 "nbformat": 4,
 "nbformat_minor": 2
}
