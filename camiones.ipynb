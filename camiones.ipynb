{
 "cells": [
  {
   "cell_type": "code",
   "execution_count": 1,
   "metadata": {},
   "outputs": [
    {
     "name": "stdout",
     "output_type": "stream",
     "text": [
      "Welcome to the CBC MILP Solver \n",
      "Version: 2.10.3 \n",
      "Build Date: Dec 15 2019 \n",
      "\n",
      "command line - /Library/Frameworks/Python.framework/Versions/3.10/lib/python3.10/site-packages/pulp/apis/../solverdir/cbc/osx/i64/cbc /var/folders/y7/xnq2gn1x2cs79dhd19wnj9wm0000gn/T/43190975cfa846c7873a087fd4d351e1-pulp.mps -timeMode elapsed -branch -printingOptions all -solution /var/folders/y7/xnq2gn1x2cs79dhd19wnj9wm0000gn/T/43190975cfa846c7873a087fd4d351e1-pulp.sol (default strategy 1)\n",
      "At line 2 NAME          MODEL\n",
      "At line 3 ROWS\n",
      "At line 15 COLUMNS\n",
      "At line 64 RHS\n",
      "At line 75 BOUNDS\n",
      "At line 76 ENDATA\n",
      "Problem MODEL has 10 rows, 12 columns and 36 elements\n",
      "Coin0008I MODEL read with 0 errors\n",
      "Option for timeMode changed from cpu to elapsed\n",
      "Presolve 7 (-3) rows, 12 (0) columns and 24 (-12) elements\n",
      "0  Obj 0 Primal inf 1500 (4)\n",
      "8  Obj 1.5e+09\n",
      "Optimal - objective value 1.5e+09\n",
      "After Postsolve, objective 1.5e+09, infeasibilities - dual 0 (0), primal 0 (0)\n",
      "Optimal objective 1500000000 - 8 iterations time 0.002, Presolve 0.00\n",
      "Option for printingOptions changed from normal to all\n",
      "Total time (CPU seconds):       0.00   (Wallclock seconds):       0.01\n",
      "\n",
      "Estado: Optimal\n",
      "ruta_('A',_1) = 300.0\n",
      "ruta_('A',_2) = 0.0\n",
      "ruta_('A',_3) = 100.0\n",
      "ruta_('A',_4) = 100.0\n",
      "ruta_('B',_1) = 0.0\n",
      "ruta_('B',_2) = 400.0\n",
      "ruta_('B',_3) = 0.0\n",
      "ruta_('B',_4) = 200.0\n",
      "ruta_('C',_1) = 0.0\n",
      "ruta_('C',_2) = 0.0\n",
      "ruta_('C',_3) = 400.0\n",
      "ruta_('C',_4) = 0.0\n",
      "Costo Total = 1500000000.0\n"
     ]
    }
   ],
   "source": [
    "import pulp\n",
    "\n",
    "# Definir el problema\n",
    "prob = pulp.LpProblem(\"Problema_de_Transporte\", pulp.LpMinimize)\n",
    "\n",
    "# Definir las variables de decisión\n",
    "rutas = [(i, j) for i in ['A', 'B', 'C'] for j in [1, 2, 3, 4]]\n",
    "x = pulp.LpVariable.dicts(\"ruta\", rutas, lowBound=0, cat='Continuous')\n",
    "\n",
    "# Definir los costos de transporte\n",
    "costos = {\n",
    "    ('A', 1): 1000000, ('A', 2): 1200000, ('A', 3): 1500000, ('A', 4): 1300000,\n",
    "    ('B', 1): 1100000, ('B', 2): 1000000, ('B', 3): 1400000, ('B', 4): 1200000,\n",
    "    ('C', 1): 1300000, ('C', 2): 1200000, ('C', 3): 700000, ('C', 4): 900000\n",
    "}\n",
    "\n",
    "# Función objetivo\n",
    "prob += pulp.lpSum([x[i, j] * costos[i, j] for (i, j) in rutas]), \"Costo_Total\"\n",
    "\n",
    "# Restricciones de capacidad de las fábricas\n",
    "capacidades = {'A': 500, 'B': 600, 'C': 400}\n",
    "for i in ['A', 'B', 'C']:\n",
    "    prob += pulp.lpSum([x[i, j] for j in [1, 2, 3, 4]]) <= capacidades[i], f\"Capacidad_{i}\"\n",
    "\n",
    "# Restricciones de demanda de los centros de distribución\n",
    "demandas = {1: 300, 2: 400, 3: 500, 4: 300}\n",
    "for j in [1, 2, 3, 4]:\n",
    "    prob += pulp.lpSum([x[i, j] for i in ['A', 'B', 'C']]) >= demandas[j], f\"Demanda_{j}\"\n",
    "\n",
    "# Restricciones de número de camiones\n",
    "capacidad_camion = 100\n",
    "max_camiones = {'A': 5, 'B': 6, 'C': 4}\n",
    "for i in ['A', 'B', 'C']:\n",
    "    prob += pulp.lpSum([x[i, j] for j in [1, 2, 3, 4]]) <= max_camiones[i] * capacidad_camion, f\"Max_Camiones_{i}\"\n",
    "\n",
    "# Resolver el problema\n",
    "prob.solve()\n",
    "\n",
    "# Imprimir los resultados\n",
    "print(\"Estado:\", pulp.LpStatus[prob.status])\n",
    "for v in prob.variables():\n",
    "    print(v.name, \"=\", v.varValue)\n",
    "print(\"Costo Total =\", pulp.value(prob.objective))"
   ]
  },
  {
   "cell_type": "code",
   "execution_count": 3,
   "metadata": {},
   "outputs": [
    {
     "name": "stdout",
     "output_type": "stream",
     "text": [
      "El costo total de transporte mínimo es: 1500000000.0\n",
      "Se deben transportar 300.0 unidades desde la Fábrica A hasta el Centro 1 en 3.0 camiones.\n",
      "Se deben transportar 100.0 unidades desde la Fábrica A hasta el Centro 3 en 1.0 camiones.\n",
      "Se deben transportar 100.0 unidades desde la Fábrica A hasta el Centro 4 en 1.0 camiones.\n",
      "Se deben transportar 400.0 unidades desde la Fábrica B hasta el Centro 2 en 4.0 camiones.\n",
      "Se deben transportar 200.0 unidades desde la Fábrica B hasta el Centro 4 en 2.0 camiones.\n",
      "Se deben transportar 400.0 unidades desde la Fábrica C hasta el Centro 3 en 4.0 camiones.\n"
     ]
    }
   ],
   "source": [
    "# Imprimir los resultados\n",
    "if prob.status == pulp.LpStatusOptimal:\n",
    "    costo_minimo = pulp.value(prob.objective)\n",
    "    print(f\"El costo total de transporte mínimo es: {costo_minimo}\")\n",
    "    for i in ['A', 'B', 'C']:\n",
    "        for j in [1, 2, 3, 4]:\n",
    "            cantidad = x[(i, j)].varValue\n",
    "            if cantidad > 0:\n",
    "                camiones = cantidad / capacidad_camion\n",
    "                print(f\"Se deben transportar {cantidad} unidades desde la Fábrica {i} hasta el Centro {j} en {camiones} camiones.\")\n",
    "else:\n",
    "    print(\"El problema no tiene solución óptima.\")"
   ]
  }
 ],
 "metadata": {
  "kernelspec": {
   "display_name": "Python 3",
   "language": "python",
   "name": "python3"
  },
  "language_info": {
   "codemirror_mode": {
    "name": "ipython",
    "version": 3
   },
   "file_extension": ".py",
   "mimetype": "text/x-python",
   "name": "python",
   "nbconvert_exporter": "python",
   "pygments_lexer": "ipython3",
   "version": "3.10.5"
  }
 },
 "nbformat": 4,
 "nbformat_minor": 2
}
